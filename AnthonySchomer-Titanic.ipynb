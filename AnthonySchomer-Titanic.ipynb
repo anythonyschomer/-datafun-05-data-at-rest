{
 "cells": [
  {
   "attachments": {},
   "cell_type": "markdown",
   "metadata": {},
   "source": [
    "## Project 5 Task 3\n",
    "#### Author: Anthony Schomer\n",
    "#### Github: https://github.com/anythonyschomer\n",
    "#### Project Repo:[datafun-05-data-at-rest](https://github.com/anythonyschomer/datafun-05-data-at-rest)"
   ]
  },
  {
   "attachments": {},
   "cell_type": "markdown",
   "metadata": {},
   "source": [
    "## Section 1 - Loading the Data Set"
   ]
  },
  {
   "cell_type": "code",
   "execution_count": 2,
   "metadata": {},
   "outputs": [
    {
     "data": {
      "text/plain": [
       "['import pandas as pd\\n',\n",
       " \"titanic = pd.read_csv('https://vincentarelbundock.github.io/'+'Rdatasets/csv/carData/TitanicSurvival.csv')\"]"
      ]
     },
     "execution_count": 2,
     "metadata": {},
     "output_type": "execute_result"
    }
   ],
   "source": [
    "[\n",
    "    \"import pandas as pd\\n\",\n",
    "    \"titanic = pd.read_csv('https://vincentarelbundock.github.io/'+'Rdatasets/csv/carData/TitanicSurvival.csv')\"\n",
    "   ]"
   ]
  },
  {
   "attachments": {},
   "cell_type": "markdown",
   "metadata": {},
   "source": [
    "## Section 2 - Viewing the Data Set"
   ]
  },
  {
   "cell_type": "code",
   "execution_count": null,
   "metadata": {},
   "outputs": [],
   "source": [
    "[\n",
    "       \"<div>\\n\",\n",
    "       \"<style scoped>\\n\",\n",
    "       \"    .dataframe tbody tr th:only-of-type {\\n\",\n",
    "       \"        vertical-align: middle;\\n\",\n",
    "       \"    }\\n\",\n",
    "       \"\\n\",\n",
    "       \"    .dataframe tbody tr th {\\n\",\n",
    "       \"        vertical-align: top;\\n\",\n",
    "       \"    }\\n\",\n",
    "       \"\\n\",\n",
    "       \"    .dataframe thead th {\\n\",\n",
    "       \"        text-align: right;\\n\",\n",
    "       \"    }\\n\",\n",
    "       \"</style>\\n\",\n",
    "       \"<table border=\\\"1\\\" class=\\\"dataframe\\\">\\n\",\n",
    "       \"  <thead>\\n\",\n",
    "       \"    <tr style=\\\"text-align: right;\\\">\\n\",\n",
    "       \"      <th></th>\\n\",\n",
    "       \"      <th>Unnamed: 0</th>\\n\",\n",
    "       \"      <th>survived</th>\\n\",\n",
    "       \"      <th>sex</th>\\n\",\n",
    "       \"      <th>age</th>\\n\",\n",
    "       \"      <th>passengerClass</th>\\n\",\n",
    "       \"    </tr>\\n\",\n",
    "       \"  </thead>\\n\",\n",
    "       \"  <tbody>\\n\",\n",
    "       \"    <tr>\\n\",\n",
    "       \"      <th>0</th>\\n\",\n",
    "       \"      <td>Allen, Miss. Elisabeth Walton</td>\\n\",\n",
    "       \"      <td>yes</td>\\n\",\n",
    "       \"      <td>female</td>\\n\",\n",
    "       \"      <td>29.00</td>\\n\",\n",
    "       \"      <td>1st</td>\\n\",\n",
    "       \"    </tr>\\n\",\n",
    "       \"    <tr>\\n\",\n",
    "       \"      <th>1</th>\\n\",\n",
    "       \"      <td>Allison, Master. Hudson Trevor</td>\\n\",\n",
    "       \"      <td>yes</td>\\n\",\n",
    "       \"      <td>male</td>\\n\",\n",
    "       \"      <td>0.92</td>\\n\",\n",
    "       \"      <td>1st</td>\\n\",\n",
    "       \"    </tr>\\n\",\n",
    "       \"    <tr>\\n\",\n",
    "       \"      <th>2</th>\\n\",\n",
    "       \"      <td>Allison, Miss. Helen Loraine</td>\\n\",\n",
    "       \"      <td>no</td>\\n\",\n",
    "       \"      <td>female</td>\\n\",\n",
    "       \"      <td>2.00</td>\\n\",\n",
    "       \"      <td>1st</td>\\n\",\n",
    "       \"    </tr>\\n\",\n",
    "       \"    <tr>\\n\",\n",
    "       \"      <th>3</th>\\n\",\n",
    "       \"      <td>Allison, Mr. Hudson Joshua Crei</td>\\n\",\n",
    "       \"      <td>no</td>\\n\",\n",
    "       \"      <td>male</td>\\n\",\n",
    "       \"      <td>30.00</td>\\n\",\n",
    "       \"      <td>1st</td>\\n\",\n",
    "       \"    </tr>\\n\",\n",
    "       \"    <tr>\\n\",\n",
    "       \"      <th>4</th>\\n\",\n",
    "       \"      <td>Allison, Mrs. Hudson J C (Bessi</td>\\n\",\n",
    "       \"      <td>no</td>\\n\",\n",
    "       \"      <td>female</td>\\n\",\n",
    "       \"      <td>25.00</td>\\n\",\n",
    "       \"      <td>1st</td>\\n\",\n",
    "       \"    </tr>\\n\",\n",
    "       \"  </tbody>\\n\",\n",
    "       \"</table>\\n\",\n",
    "       \"</div>\"\n",
    "      ],"
   ]
  }
 ],
 "metadata": {
  "kernelspec": {
   "display_name": "Python 3",
   "language": "python",
   "name": "python3"
  },
  "language_info": {
   "codemirror_mode": {
    "name": "ipython",
    "version": 3
   },
   "file_extension": ".py",
   "mimetype": "text/x-python",
   "name": "python",
   "nbconvert_exporter": "python",
   "pygments_lexer": "ipython3",
   "version": "3.11.4"
  },
  "orig_nbformat": 4
 },
 "nbformat": 4,
 "nbformat_minor": 2
}
