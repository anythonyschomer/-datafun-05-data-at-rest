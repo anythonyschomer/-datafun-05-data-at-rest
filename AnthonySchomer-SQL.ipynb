{
 "cells": [
  {
   "attachments": {},
   "cell_type": "markdown",
   "metadata": {},
   "source": [
    "# **Task 4 - SQL**\n",
    "#### Author: Anthony Schomer\n",
    "#### GitHub: https://github.com/anythonyschomer"
   ]
  },
  {
   "attachments": {},
   "cell_type": "markdown",
   "metadata": {},
   "source": [
    "## Connecting to the Books Database"
   ]
  },
  {
   "cell_type": "code",
   "execution_count": 4,
   "metadata": {},
   "outputs": [
    {
     "ename": "SyntaxError",
     "evalue": "invalid syntax (1138806880.py, line 3)",
     "output_type": "error",
     "traceback": [
      "\u001b[1;36m  Cell \u001b[1;32mIn[4], line 3\u001b[1;36m\u001b[0m\n\u001b[1;33m    import sqlite3\u001b[0m\n\u001b[1;37m    ^\u001b[0m\n\u001b[1;31mSyntaxError\u001b[0m\u001b[1;31m:\u001b[0m invalid syntax\n"
     ]
    }
   ],
   "source": [
    "[\n",
    "    # Importing SQLite3 and Pandas\n",
    "    import sqlite3\n",
    "    import pandas as pd,\n",
    "    # Setting up the connection to the Books database\n",
    "    connection = sqlite3.connect('books.db')\n",
    "    # Setting the max columns to 10\n",
    "    pd.options.display.max_columns = 10]"
   ]
  },
  {
   "attachments": {},
   "cell_type": "markdown",
   "metadata": {},
   "source": [
    "## Displaying the Authors Table"
   ]
  },
  {
   "cell_type": "code",
   "execution_count": null,
   "metadata": {},
   "outputs": [],
   "source": [
    "pd.read_sql ('SELECT*FROM authors, connection, index_col=['id'])"
   ]
  },
  {
   "cell_type": "code",
   "execution_count": null,
   "metadata": {},
   "outputs": [],
   "source": [
    " [\n",
    "    \n",
    "     data: \n",
    "    text/html\n",
    "    [\n",
    "    <div>,\n",
    "    <style scoped>,\n",
    "    .dataframe tbody tr th:only-of-type {,\n",
    "    vertical-align: middle;,\n",
    "    },\n",
    "    ,\n",
    "    .dataframe tbody tr th,\n",
    "     vertical-align: top;,\n",
    "       \"    }\\n\",\n",
    "       \"\\n\",\n",
    "       \"    .dataframe thead th {\\n\",\n",
    "       \"        text-align: right;\\n\",\n",
    "       \"    }\\n\",\n",
    "       \"</style>\\n\",\n",
    "       \"<table border=\\\"1\\\" class=\\\"dataframe\\\">\\n\",\n",
    "       \"  <thead>\\n\",\n",
    "       \"    <tr style=\\\"text-align: right;\\\">\\n\",\n",
    "       \"      <th></th>\\n\",\n",
    "       \"      <th>first</th>\\n\",\n",
    "       \"      <th>last</th>\\n\",\n",
    "       \"    </tr>\\n\",\n",
    "       \"    <tr>\\n\",\n",
    "       \"      <th>id</th>\\n\",\n",
    "       \"      <th></th>\\n\",\n",
    "       \"      <th></th>\\n\",\n",
    "       \"    </tr>\\n\",\n",
    "       \"  </thead>\\n\",\n",
    "       \"  <tbody>\\n\",\n",
    "       \"    <tr>\\n\",\n",
    "       \"      <th>1</th>\\n\",\n",
    "       \"      <td>Paul</td>\\n\",\n",
    "       \"      <td>Deitel</td>\\n\",\n",
    "       \"    </tr>\\n\",\n",
    "       \"    <tr>\\n\",\n",
    "       \"      <th>2</th>\\n\",\n",
    "       \"      <td>Harvey</td>\\n\",\n",
    "       \"      <td>Deitel</td>\\n\",\n",
    "       \"    </tr>\\n\",\n",
    "       \"    <tr>\\n\",\n",
    "       \"      <th>3</th>\\n\",\n",
    "       \"      <td>Abbey</td>\\n\",\n",
    "       \"      <td>Deitel</td>\\n\",\n",
    "       \"    </tr>\\n\",\n",
    "       \"    <tr>\\n\",\n",
    "       \"      <th>4</th>\\n\",\n",
    "       \"      <td>Dan</td>\\n\",\n",
    "       \"      <td>Quirk</td>\\n\",\n",
    "       \"    </tr>\\n\",\n",
    "       \"    <tr>\\n\",\n",
    "       \"      <th>5</th>\\n\",\n",
    "       \"      <td>Alexander</td>\\n\",\n",
    "       \"      <td>Wald</td>\\n\",\n",
    "       \"    </tr>\\n\",\n",
    "       \"  </tbody>\\n\",\n",
    "       \"</table>\\n\",\n",
    "       \"</div>\"\n",
    "      ],\n",
    "      \"text/plain\": [\n",
    "       \"        first    last\\n\",\n",
    "       \"id                   \\n\",\n",
    "       \"1        Paul  Deitel\\n\",\n",
    "       \"2      Harvey  Deitel\\n\",\n",
    "       \"3       Abbey  Deitel\\n\",\n",
    "       \"4         Dan   Quirk\\n\",\n",
    "       \"5   Alexander    Wald\"\n",
    "      ]\n",
    "     ,\n",
    "     \"execution_count\": 2,\n",
    "     \"metadata\": {},\n",
    "     \"output_type\": \"execute_result\"\n",
    "\n",
    "   ],\n",
    "\"source\": [\n",
    "(pd.read_sql('SELECT * FROM authors', connection, index_col=['id'])\"\n",
    "   ]"
   ]
  }
 ],
 "metadata": {
  "kernelspec": {
   "display_name": "Python 3",
   "language": "python",
   "name": "python3"
  },
  "language_info": {
   "codemirror_mode": {
    "name": "ipython",
    "version": 3
   },
   "file_extension": ".py",
   "mimetype": "text/x-python",
   "name": "python",
   "nbconvert_exporter": "python",
   "pygments_lexer": "ipython3",
   "version": "3.11.4"
  },
  "orig_nbformat": 4
 },
 "nbformat": 4,
 "nbformat_minor": 2
}
