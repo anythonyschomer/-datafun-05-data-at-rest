{
 "cells": [
  {
   "attachments": {},
   "cell_type": "markdown",
   "metadata": {},
   "source": [
    "# **Task 4 - SQL**\n",
    "#### Author: Anthony Schomer\n",
    "#### GitHub: https://github.com/anythonyschomer"
   ]
  },
  {
   "attachments": {},
   "cell_type": "markdown",
   "metadata": {},
   "source": [
    "## Connecting to the Books Database"
   ]
  },
  {
   "cell_type": "code",
   "execution_count": null,
   "metadata": {},
   "outputs": [],
   "source": [
    "[\n",
    "    \"# Importing SQLite3 and Pandas\\n\",\n",
    "    \"import sqlite3\\n\",\n",
    "    \"import pandas as pd\\n\",\n",
    "    \"\\n\",\n",
    "    \"# Setting up the connection to the Books database\\n\",\n",
    "    \"connection = sqlite3.connect('books.db')\\n\",\n",
    "    \"# Setting the max columns to 10\\n\",\n",
    "    \"pd.options.display.max_columns = 10\"\n",
    "   ]"
   ]
  }
 ],
 "metadata": {
  "kernelspec": {
   "display_name": "Python 3",
   "language": "python",
   "name": "python3"
  },
  "language_info": {
   "name": "python",
   "version": "3.11.4"
  },
  "orig_nbformat": 4
 },
 "nbformat": 4,
 "nbformat_minor": 2
}
