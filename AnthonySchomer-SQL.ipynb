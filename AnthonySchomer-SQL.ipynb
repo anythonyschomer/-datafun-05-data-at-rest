{
 "cells": [
  {
   "attachments": {},
   "cell_type": "markdown",
   "metadata": {},
   "source": [
    "# **Task 4 - SQL**\n",
    "#### Author: Anthony Schomer\n",
    "#### GitHub: https://github.com/anythonyschomer"
   ]
  }
 ],
 "metadata": {
  "language_info": {
   "name": "python"
  },
  "orig_nbformat": 4
 },
 "nbformat": 4,
 "nbformat_minor": 2
}
