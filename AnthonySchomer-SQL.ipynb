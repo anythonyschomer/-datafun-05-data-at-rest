{
 "cells": [
  {
   "attachments": {},
   "cell_type": "markdown",
   "metadata": {},
   "source": [
    "# **Task 4 - SQL**\n",
    "#### Author: Anthony Schomer\n",
    "#### GitHub: https://github.com/anythonyschomer"
   ]
  },
  {
   "attachments": {},
   "cell_type": "markdown",
   "metadata": {},
   "source": [
    "## Connecting to the Books Database"
   ]
  },
  {
   "cell_type": "code",
   "execution_count": null,
   "metadata": {
    "vscode": {
     "languageId": "plaintext"
    }
   },
   "outputs": [],
   "source": [
    "[\n",
    "    # Importing SQLite3 and Pandas\n",
    "    import sqlite3\n",
    "    import pandas as pd\\n\",\n",
    "    \\n\",\n",
    "    # Setting up the connection to the Books database\n",
    "    connection = sqlite3.connect('books.db')\n",
    "    # Setting the max columns to 10\n",
    "    pd.options.display.max_columns = 10\n",
    "   ]"
   ]
  },
  {
   "attachments": {},
   "cell_type": "markdown",
   "metadata": {},
   "source": [
    "## Displaying the Authors Table"
   ]
  },
  {
   "cell_type": "code",
   "execution_count": null,
   "metadata": {
    "vscode": {
     "languageId": "plaintext"
    }
   },
   "outputs": [],
   "source": [
    "[{\n",
    "       <div>\n",
    "       <style scoped>\n",
    "           .dataframe tbody tr th:only-of-type\n",
    "               vertical-align: middle;\n",
    "           }\\n\",\n",
    "       \\n\",\n",
    "           .dataframe tbody tr th {\n",
    "               vertical-align: top;\n",
    "           }\n",
    "            ,\n",
    "           .dataframe thead th {,\n",
    "               text-align: right;,\n",
    "           }\\n\",\n",
    "                  </style>,\n",
    "       <table border=\\\"1\\\" class=\\\"dataframe\\\">,\n",
    "         <thead>,\n",
    "           <tr style=\\\"text-align: right;\\\">,\n",
    "             <th></th>,\n",
    "             <th>first</th>,\n",
    "             <th>last</th>,\n",
    "           </tr>,\n",
    "           <tr>,\n",
    "             <th>id</th>,\n",
    "             <th></th>,\n",
    "             <th></th>,\n",
    "           </tr>,\n",
    "         </thead>,\n",
    "         <tbody>,\n",
    "           <tr>,\n",
    "             <th>1</th>,\n",
    "             <td>Paul</td>,\n",
    "             <td>Deitel</td>,\n",
    "           </tr>\",\n",
    "             <tr>\",\n",
    "             <th>2</th>,\n",
    "             <td>Harvey</td>,\n",
    "             <td>Deitel</td>,\n",
    "           </tr>,\n",
    "           <tr>,\n",
    "             <th>3</th>,\n",
    "             <td>Abbey</td>,\n",
    "             <td>Deitel</td>,\n",
    "           </tr>,\n",
    "           <tr>,\n",
    "             <th>4</th>,\n",
    "             <td>Dan</td>,\n",
    "             <td>Quirk</td>,\n",
    "           </tr>,\n",
    "           <tr>,\n",
    "             <th>5</th>,\n",
    "             <td>Alexander</td>,\n",
    "             <td>Wald</td>,\n",
    "           </tr>,\n",
    "         </tbody>,\n",
    "        </table>,\n",
    "       </div>\n",
    "      ]"
   ]
  }
 ],
 "metadata": {
  "language_info": {
   "name": "python"
  },
  "orig_nbformat": 4
 },
 "nbformat": 4,
 "nbformat_minor": 2
}
