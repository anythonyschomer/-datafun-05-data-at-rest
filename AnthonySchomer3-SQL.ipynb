{
 "cells": [
  {
   "attachments": {},
   "cell_type": "markdown",
   "metadata": {},
   "source": [
    "# **Task 4 - SQL**\n",
    "#### Author: Anthony Schomer\n",
    "#### GitHub: https://github.com/anythonyschomer"
   ]
  },
  {
   "attachments": {},
   "cell_type": "markdown",
   "metadata": {},
   "source": [
    "## Connecting to the Books Database"
   ]
  },
  {
   "cell_type": "code",
   "execution_count": null,
   "metadata": {},
   "outputs": [],
   "source": [
    "[\n",
    "    \"# Importing SQLite3 and Pandas\\n\",\n",
    "    \"import sqlite3\\n\",\n",
    "    \"import pandas as pd\\n\",\n",
    "    \"\\n\",\n",
    "    \"# Setting up the connection to the Books database\\n\",\n",
    "    \"connection = sqlite3.connect('books.db')\\n\",\n",
    "    \"# Setting the max columns to 10\\n\",\n",
    "    \"pd.options.display.max_columns = 10\"\n",
    "   ]"
   ]
  },
  {
   "attachments": {},
   "cell_type": "markdown",
   "metadata": {},
   "source": [
    "## Displaying the Authors Table"
   ]
  },
  {
   "cell_type": "code",
   "execution_count": null,
   "metadata": {},
   "outputs": [],
   "source": [
    "[\n",
    "       \"<div>\\n\",\n",
    "       \"<style scoped>\\n\",\n",
    "       \"    .dataframe tbody tr th:only-of-type {\\n\",\n",
    "       \"        vertical-align: middle;\\n\",\n",
    "       \"    }\\n\",\n",
    "       \"\\n\",\n",
    "       \"    .dataframe tbody tr th {\\n\",\n",
    "       \"        vertical-align: top;\\n\",\n",
    "       \"    }\\n\",\n",
    "       \"\\n\",\n",
    "       \"    .dataframe thead th {\\n\",\n",
    "       \"        text-align: right;\\n\",\n",
    "       \"    }\\n\",\n",
    "       \"</style>\\n\",\n",
    "       \"<table border=\\\"1\\\" class=\\\"dataframe\\\">\\n\",\n",
    "       \"  <thead>\\n\",\n",
    "       \"    <tr style=\\\"text-align: right;\\\">\\n\",\n",
    "       \"      <th></th>\\n\",\n",
    "       \"      <th>first</th>\\n\",\n",
    "       \"      <th>last</th>\\n\",\n",
    "       \"    </tr>\\n\",\n",
    "       \"    <tr>\\n\",\n",
    "       \"      <th>id</th>\\n\",\n",
    "       \"      <th></th>\\n\",\n",
    "       \"      <th></th>\\n\",\n",
    "       \"    </tr>\\n\",\n",
    "       \"  </thead>\\n\",\n",
    "       \"  <tbody>\\n\",\n",
    "       \"    <tr>\\n\",\n",
    "       \"      <th>1</th>\\n\",\n",
    "       \"      <td>Paul</td>\\n\",\n",
    "       \"      <td>Deitel</td>\\n\",\n",
    "       \"    </tr>\\n\",\n",
    "       \"    <tr>\\n\",\n",
    "       \"      <th>2</th>\\n\",\n",
    "       \"      <td>Harvey</td>\\n\",\n",
    "       \"      <td>Deitel</td>\\n\",\n",
    "       \"    </tr>\\n\",\n",
    "       \"    <tr>\\n\",\n",
    "       \"      <th>3</th>\\n\",\n",
    "       \"      <td>Abbey</td>\\n\",\n",
    "       \"      <td>Deitel</td>\\n\",\n",
    "       \"    </tr>\\n\",\n",
    "       \"    <tr>\\n\",\n",
    "       \"      <th>4</th>\\n\",\n",
    "       \"      <td>Dan</td>\\n\",\n",
    "       \"      <td>Quirk</td>\\n\",\n",
    "       \"    </tr>\\n\",\n",
    "       \"    <tr>\\n\",\n",
    "       \"      <th>5</th>\\n\",\n",
    "       \"      <td>Alexander</td>\\n\",\n",
    "       \"      <td>Wald</td>\\n\",\n",
    "       \"    </tr>\\n\",\n",
    "       \"  </tbody>\\n\",\n",
    "       \"</table>\\n\",\n",
    "       \"</div>\"\n",
    "      ],\n",
    "\"text/plain\": []\n",
    "        \"first    last,\n",
    "id,\n",
    "\"1        Paul  Deitel\\n\",\n",
    "\"2      Harvey  Deitel\\n\",\n",
    "\"3       Abbey  Deitel\\n\",\n",
    "\"4         Dan   Quirk\\n\",\n",
    "\"5   Alexander    Wald\",\n",
    ",\n",
    "\"execution_count\": 2,\n",
    "\"metadata\": {},\n",
    "\"output_type\": \"execute_result\",\n"
   ]
  }
 ],
 "metadata": {
  "language_info": {
   "name": "python"
  },
  "orig_nbformat": 4
 },
 "nbformat": 4,
 "nbformat_minor": 2
}
