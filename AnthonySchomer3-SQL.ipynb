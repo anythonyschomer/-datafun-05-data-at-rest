{
 "cells": [
  {
   "attachments": {},
   "cell_type": "markdown",
   "metadata": {},
   "source": [
    "# **Task 4 - SQL**\n",
    "#### Author: Anthony Schomer\n",
    "#### GitHub: https://github.com/anythonyschomer"
   ]
  },
  {
   "attachments": {},
   "cell_type": "markdown",
   "metadata": {},
   "source": [
    "## Connecting to the Books Database"
   ]
  },
  {
   "cell_type": "code",
   "execution_count": 1,
   "metadata": {},
   "outputs": [
    {
     "ename": "ModuleNotFoundError",
     "evalue": "No module named 'pandas'",
     "output_type": "error",
     "traceback": [
      "\u001b[1;31m---------------------------------------------------------------------------\u001b[0m",
      "\u001b[1;31mModuleNotFoundError\u001b[0m                       Traceback (most recent call last)",
      "Cell \u001b[1;32mIn[1], line 3\u001b[0m\n\u001b[0;32m      1\u001b[0m \u001b[39mimport\u001b[39;00m \u001b[39msqlite3\u001b[39;00m\n\u001b[0;32m      2\u001b[0m connection \u001b[39m=\u001b[39m sqlite3\u001b[39m.\u001b[39mconnect(\u001b[39m'\u001b[39m\u001b[39mbooks.db\u001b[39m\u001b[39m'\u001b[39m)\n\u001b[1;32m----> 3\u001b[0m \u001b[39mimport\u001b[39;00m \u001b[39mpandas\u001b[39;00m \u001b[39mas\u001b[39;00m \u001b[39mpd\u001b[39;00m\n",
      "\u001b[1;31mModuleNotFoundError\u001b[0m: No module named 'pandas'"
     ]
    }
   ],
   "source": [
    "import sqlite3\n",
    "connection = sqlite3.connect('books.db')\n",
    "import pandas as pd\n",
    "\n"
   ]
  },
  {
   "attachments": {},
   "cell_type": "markdown",
   "metadata": {},
   "source": [
    "## Displaying the Authors Table"
   ]
  },
  {
   "cell_type": "code",
   "execution_count": null,
   "metadata": {},
   "outputs": [],
   "source": [
    "\n",
    "pd.options.display.max_columns = 10\n",
    "pd.read_sql('SELECT* FROM authors', connection\n",
    "            index_col=['id'])"
   ]
  },
  {
   "attachments": {},
   "cell_type": "markdown",
   "metadata": {},
   "source": [
    "## Displaying the Titles Table\n",
    "## Displaying the Author_ISBN Table"
   ]
  },
  {
   "attachments": {},
   "cell_type": "markdown",
   "metadata": {},
   "source": [
    "## 17.2.2 Select Query\n",
    "\n",
    "## 17.2.3 Where Query\n",
    "\n",
    "## 17.2.4 ORDER By Query\n",
    "\n",
    "## 17.2.5 Inner Join\n",
    "\n",
    "## 17.2.6 Insert Into\n",
    "\n",
    "## 17.2.7 Update\n",
    "\n",
    "## 17.2.8 Delete From"
   ]
  },
  {
   "cell_type": "code",
   "execution_count": null,
   "metadata": {},
   "outputs": [],
   "source": [
    "pd.read_sql('SELECT * FROM titles', connection)\n",
    "\n",
    "df = pd.read_sql('SELECT * FROM author_ISBN', connection)\n",
    "df. head()\n",
    "pd.read_sql('SELECT first, last FROM authors', connection)\n",
    "\n",
    "pd.read_sql(\"\"\"SELECT title, edition, copyright\n",
    "            FROM titles\n",
    "            WHERE copyright > '2016\"\"\", connection)\n",
    "\n",
    "pd.read_sql(\"\"\"SELECT id, first, last\n",
    "            FROM titles\n",
    "            WHERE copyright > '2016'\"\"\", connection)\n",
    "\n",
    "pd.read_sql(\"\"\"SELECT id, first, last\n",
    "            FROM authors\n",
    "            WHERE last LIKE '_D%'\"\"\",\n",
    "            connection, index_col=['id'])\n",
    "\n",
    "\n",
    "pd.read_sql(\"\"\"SELECT id, first, last\n",
    "            FROM authors\n",
    "            WHERE first LIKE '_b%'\"\"\",\n",
    "            connection, index_col=['id'])\n",
    "\n",
    "pd.read_sql('SELECT title FROM titles ORDER BY title ASC',\n",
    "            connection)\n",
    "\n",
    "pd.read_sql(\"\"\"SELECT is, first, last\n",
    "            FROM authors\n",
    "            ORDER BY last, first\"\"\",\n",
    "            connection, index_col=['id'])\n",
    "\n",
    "pd.read_sql(\"\"\"SELECT id, first, last\n",
    "            FROM authors\n",
    "            ORDER by last DESC, first ASC\"\"\",\n",
    "            connection, index_col=['id'])\n",
    "\n",
    "pd.read_sql(\"\"\"SELECT isbn, title, edition, copyright\n",
    "            FROM titles\n",
    "            WHERE title LIKE '%How To Program'\n",
    "            ORDER BY title\"\"\", connection)\n",
    "\n",
    "pd.read_sql(\"\"\"SELECT first, last, isbn, \n",
    "            FROM authors\n",
    "            INNER JOIN authors_ISBN\n",
    "            ON authors.id = author_ISBN.id\n",
    "            ORDER BY last, first\"\"\", connection).head()\n",
    "\n",
    "cursor = connection.cursor()\n",
    "\n",
    "cursor = cursor.execute(\"\"\"INSERT INTO authors (first, last)\n",
    "                        VALUES ('Sue', 'Red')\"\"\")\n",
    "\n",
    "\n",
    "\n",
    "pd.read_sql('SELECT id, first, last FROM authors', \n",
    "            connection, index_col=['id'])\n",
    "\n",
    "cursor = cursor.execute(\"\"\"UPDATE authors SET last='Black'\n",
    "                        WHERE last='Red' AND first='Sue'\"\"\")\n",
    "\n",
    "\n",
    "cursor.rowcount\n",
    "\n",
    "\n",
    "pd.read_sql('SELECT id, first, last FROM authors',\n",
    "            connection, index_col=['id'])\n",
    "\n",
    "pd.read_sql(\"\"\"SELECT title, edition FROM titles\n",
    "            ORDER BY edition DESC\"\"\", connection).head(3)\n",
    "\n",
    "pd.read_sql(\"\"\"SELECT * FROM authors\n",
    "            WHERE first LIKE 'A%'\"\"\", connection)\n",
    "\n",
    "pd.read_sql(\"\"\"SELECT isbn, title, edition, copyright\n",
    "            FROM titles\n",
    "            WHERE title NOT LIKE '%How to Program'\n",
    "            ORDER BY title\"\"\", connection)\n",
    "\n",
    "\n"
   ]
  }
 ],
 "metadata": {
  "kernelspec": {
   "display_name": "Python 3",
   "language": "python",
   "name": "python3"
  },
  "language_info": {
   "codemirror_mode": {
    "name": "ipython",
    "version": 3
   },
   "file_extension": ".py",
   "mimetype": "text/x-python",
   "name": "python",
   "nbconvert_exporter": "python",
   "pygments_lexer": "ipython3",
   "version": "3.11.4"
  },
  "orig_nbformat": 4
 },
 "nbformat": 4,
 "nbformat_minor": 2
}
