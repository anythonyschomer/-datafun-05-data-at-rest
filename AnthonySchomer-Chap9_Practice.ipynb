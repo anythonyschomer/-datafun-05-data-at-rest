{
 "cells": [
  {
   "attachments": {},
   "cell_type": "markdown",
   "metadata": {},
   "source": [
    "# **Module 5 Task 1**\n",
    "#### Author: Anthony Schomer\n",
    "#### Github: https://github.com/anythonyschomer"
   ]
  },
  {
   "attachments": {},
   "cell_type": "markdown",
   "metadata": {},
   "source": [
    "## **Chapter 9 - Files Exceptions**"
   ]
  },
  {
   "attachments": {},
   "cell_type": "markdown",
   "metadata": {},
   "source": [
    "#### 9.3.1 Writing to a text File: Introducing the with statement"
   ]
  },
  {
   "cell_type": "code",
   "execution_count": null,
   "metadata": {
    "vscode": {
     "languageId": "plaintext"
    }
   },
   "outputs": [],
   "source": [
    "# Creating Text File\n",
    "with open('accounts.txt', mode='w') as accounts:\n",
    "100 Jones 24.98\n",
    "200 Does 345.67\n",
    "300 White 0.00\n",
    "400 Stone -42.16\n",
    "500 Rich 224.62"
   ]
  },
  {
   "attachments": {},
   "cell_type": "markdown",
   "metadata": {},
   "source": [
    "#### 9.3.2 Reading Data from a Text File"
   ]
  },
  {
   "cell_type": "code",
   "execution_count": null,
   "metadata": {
    "vscode": {
     "languageId": "plaintext"
    }
   },
   "outputs": [],
   "source": [
    "text: [\n",
    "\"Account    Name    Balance\\n\"\n",
    "\"100        Jones   24.98\\n\",\n",
    "\"200        Doe     345.67\\n\",\n",
    "\"300        White   0.00\\n\",\n",
    "\"400        Stone   -42.16\\n\",\n",
    "\"500        Rich    224.62\\n\"\n",
    "]\n"
   ]
  },
  {
   "cell_type": "code",
   "execution_count": null,
   "metadata": {
    "vscode": {
     "languageId": "plaintext"
    }
   },
   "outputs": [],
   "source": [
    "# Reading Data from our Text File\n",
    "[\n",
    " with open('accounts.txt', mode='r') as accounts:\n",
    "    print(f'{\"Account\":<10}{\"Name\":<10}{\"Balance\":>10}')\n",
    "    for record in accounts:\n",
    "       account, name, balance = record.split()\n",
    "       print(f'{account:<10}{name:<10}{balance:>10}')\n",
    "]"
   ]
  },
  {
   "attachments": {},
   "cell_type": "markdown",
   "metadata": {},
   "source": [
    "#### 9.4 Updating Text Files"
   ]
  },
  {
   "cell_type": "code",
   "execution_count": null,
   "metadata": {
    "vscode": {
     "languageId": "plaintext"
    }
   },
   "outputs": [],
   "source": [
    "\n",
    "   \"source\": [\n",
    "    \"# Updating Account 300's name from White to Williams\\n\",\n",
    "    \"accounts = open('accounts.txt', 'r')\\n\",\n",
    "    \"\\n\",\n",
    "    \"temp_file = open('temp_file.txt', 'w')\\n\",\n",
    "    \"\\n\",\n",
    "    \"with accounts, temp_file:\\n\",\n",
    "    \"    for record in accounts:\\n\",\n",
    "    \"        account, name, balance = record.split()\\n\",\n",
    "    \"        if account != '300':\\n\",\n",
    "    \"            temp_file.write(record)\\n\",\n",
    "    \"        else:\\n\",\n",
    "    \"            new_record = ''.join([account, 'Williams', balance])\\n\",\n",
    "    \"            temp_file.write(new_record + '\\\\n')\"\n",
    "   ]"
   ]
  }
 ],
 "metadata": {
  "language_info": {
   "name": "python"
  },
  "orig_nbformat": 4
 },
 "nbformat": 4,
 "nbformat_minor": 2
}
