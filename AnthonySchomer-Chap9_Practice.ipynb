{
 "cells": [
  {
   "attachments": {},
   "cell_type": "markdown",
   "metadata": {},
   "source": [
    "# **Module 5 Task 1**\n",
    "#### Author: Anthony Schomer\n",
    "#### Github: https://github.com/anythonyschomer"
   ]
  },
  {
   "attachments": {},
   "cell_type": "markdown",
   "metadata": {},
   "source": [
    "## **Chapter 9 - Files Exceptions**"
   ]
  },
  {
   "attachments": {},
   "cell_type": "markdown",
   "metadata": {},
   "source": [
    "#### 9.3.1 Writing to a text File: Introducing the with statement"
   ]
  },
  {
   "cell_type": "code",
   "execution_count": null,
   "metadata": {},
   "outputs": [],
   "source": [
    "# Creating Text File\n",
    "with open('accounts.txt', mode='w') as accounts:\n",
    "    accounts.write('100 Jones 24.98\\n')\n",
    "    accounts.write('200 Doe 345.67\\n')\n",
    "    accounts.write('300 White 0.00\\n')\n",
    "    accounts.write('400 Stone -42.16\\n')\n",
    "    accounts.write('500 Rich 224.62\\n') "
   ]
  },
  {
   "attachments": {},
   "cell_type": "markdown",
   "metadata": {},
   "source": [
    "#### 9.3.2 Reading Data from a Text File"
   ]
  },
  {
   "cell_type": "code",
   "execution_count": null,
   "metadata": {},
   "outputs": [],
   "source": [
    "with open('accounts.txt', mode='r') as accounts:\n",
    "     print(f'{\"Account\":<10}{\"Name\":<10}{\"Balance\":>10}')\n",
    "     for record in accounts:\n",
    "          account, name, balance = record.split()\n",
    "          print(f'{account:<10}{name:<10}{balance:>10}')\n",
    "          "
   ]
  },
  {
   "attachments": {},
   "cell_type": "markdown",
   "metadata": {},
   "source": [
    "#### 9.4 Updating Text Files"
   ]
  },
  {
   "cell_type": "code",
   "execution_count": null,
   "metadata": {},
   "outputs": [],
   "source": [
    "accounts = open('accounts.txt','r')\n",
    "temp_file = open('temp_file.txt', 'w')\n",
    "with accounts, temp_file:\n",
    "   for record in accounts:\n",
    "      account, name, balance = record.split()\n",
    "      if account != '300':\n",
    "         temp_file.write(record)\n",
    "      else:\n",
    "         new_record = ' '.join([account, 'Williams', balance])\n",
    "         temp_file.write(new_record + '\\n')"
   ]
  },
  {
   "attachments": {},
   "cell_type": "markdown",
   "metadata": {},
   "source": [
    "#### 9.5 Serialization with JSON"
   ]
  },
  {
   "cell_type": "code",
   "execution_count": null,
   "metadata": {},
   "outputs": [],
   "source": [
    "accounts_dict = {'accounts': [\n",
    "     {'accounts': 100, 'name': 'Jones,' 'balance': 24.98},\n",
    "     {'accounts': 200, 'name': 'Doe,' 'balance': 345.67}]}\n"
   ]
  },
  {
   "cell_type": "code",
   "execution_count": null,
   "metadata": {},
   "outputs": [],
   "source": [
    "import json\n",
    "with open('accounts.json', 'w') as accounts:\n",
    "    json.dump(accounts_dict, accounts)"
   ]
  },
  {
   "cell_type": "code",
   "execution_count": null,
   "metadata": {},
   "outputs": [],
   "source": [
    "{\"accounts\":\n",
    "    [{\"accounts\": 100, \"name\": \"Jones\", \"balance\": 24.98},\n",
    "     {\"accounts\": 200, \"name\": \"Doe\", \"balance\": 345.67}]}"
   ]
  },
  {
   "cell_type": "code",
   "execution_count": null,
   "metadata": {},
   "outputs": [],
   "source": [
    "with open('accounts.json', 'r') as accounts:\n",
    "    accounts_json = json.load(accounts)\n",
    "    "
   ]
  },
  {
   "cell_type": "code",
   "execution_count": null,
   "metadata": {},
   "outputs": [],
   "source": [
    "accounts_json\n"
   ]
  },
  {
   "cell_type": "code",
   "execution_count": null,
   "metadata": {},
   "outputs": [],
   "source": [
    "accounts_json ['accounts']"
   ]
  },
  {
   "cell_type": "code",
   "execution_count": null,
   "metadata": {},
   "outputs": [],
   "source": [
    "accounts_json ['accounts'] [0]"
   ]
  },
  {
   "cell_type": "code",
   "execution_count": null,
   "metadata": {},
   "outputs": [],
   "source": [
    "accounts_json ['accounts'] [1]\n"
   ]
  },
  {
   "cell_type": "code",
   "execution_count": null,
   "metadata": {},
   "outputs": [],
   "source": [
    "with open('accounts.json', 'r') as accounts:\n",
    "    print(json.dumps(json.load(accounts), indent=4))\n",
    "    \n",
    "{\n",
    "    \"accounts\": [\n",
    "        {\n",
    "            \"account\": 100,\n",
    "            \"name\": \"Jones\",\n",
    "            \"balance\": 24.98\n",
    "        },    \n",
    "        {    \n",
    "            \"account\": 200,\n",
    "            \"name\": \"Doe\",\n",
    "            \"balance\": 345.67\n",
    "        }\n",
    "    ]\n",
    "}\n"
   ]
  },
  {
   "attachments": {},
   "cell_type": "markdown",
   "metadata": {},
   "source": [
    "#### 9.8.1 Division by Zero and Invalid Input & 9.8.2 Try Statements"
   ]
  },
  {
   "cell_type": "code",
   "execution_count": null,
   "metadata": {},
   "outputs": [],
   "source": [
    "10/0\n",
    "\n",
    "value = int(input('Enter an integer: '))\n",
    "Enter an integer: hello\n"
   ]
  },
  {
   "cell_type": "code",
   "execution_count": null,
   "metadata": {},
   "outputs": [],
   "source": [
    "# dividebyzero.py\n",
    "\"\"\"Simple exception handling example.\"\"\"\n",
    "\n",
    "while True:\n",
    "    #attempt to convert and divide values\n",
    "    try:\n",
    "        number1 = int(input('Enter numerator:'))\n",
    "        number2 = int(input('Enter denominator:'))\n",
    "        result = number1 /number2\n",
    "    except ValueError: # tried to convert non-numeric value to int\n",
    "        print('You must enter two integers\\n')\n",
    "    except ZeroDivisionError: # denominator was 0\n",
    "        print('Attempted to divide by zero\\n')\n",
    "    else: #executes only if no exceptions occur\n",
    "        print(f'{number1:.3f} / {number2:.3f} = {result:.3f}')\n",
    "        break # terminate the loop"
   ]
  },
  {
   "attachments": {},
   "cell_type": "markdown",
   "metadata": {},
   "source": [
    "#### 9.9 Finally Clause"
   ]
  },
  {
   "cell_type": "code",
   "execution_count": null,
   "metadata": {},
   "outputs": [],
   "source": [
    "try:\n",
    "  print('try suite with no exceptions raised')\n",
    "except:\n",
    "  print('this will not execute')\n",
    "except:\n",
    "  print('else executes because no execeptions in the try suite')\n",
    "finally:\n",
    "  print('finally always executes')\n",
    "\n",
    "try suite with no execeptions raised else executes because no exceptions in the try suite finally always executes  \n",
    "  \n",
    "try:\n",
    "  print ('try suite that raises an exeception')\n",
    "  int('hello')\n",
    "  print('this will not execute')\n",
    "except ValueError:\n",
    "  print('a ValueError occured')\n",
    "else:\n",
    "  print('else will not execute because an exception occured')\n",
    "finally:\n",
    "  print('finally always executes') \n",
    "\n",
    "try suite that raises an exception a ValueError occured finally always executes\n",
    "\n",
    "open('gradez.txt') \n",
    "\n",
    "try:\n",
    "  with open('gradez.txt', 'r') as accounts:\n",
    "    print(f'{\"ID\":<3}{\"Name\":<7}{\"Grade\"}')\n",
    "    for records in accounts:\n",
    "      student_id, name, grade = record.split()\n",
    "      print(f'{student_id:<3}{name:<7}{grade}')\n",
    "except FileNotFoundError:\n",
    "      print('The file name you specified does not exist')\n",
    "      "
   ]
  },
  {
   "cell_type": "code",
   "execution_count": null,
   "metadata": {},
   "outputs": [],
   "source": [
    "[\n",
    "    # Try Suite that works,\n",
    "    try:,\n",
    "    print('My name is Anthony Schomer'),\n",
    "    except:,\n",
    "        print('You messed up this time!'),\n",
    "else:\n",
    "        print('Congratulations you did it correct!'),\n",
    "    finally:,\n",
    "        print('The End'),\n",
    "    # Try Suite that does not work,\n",
    "    try,\n",
    "        print(\"My name is Anthony Schomer\"),\n",
    "        int('Hello')\n",
    "        print('I am trying to mess this up on purpose')\n",
    "    except:\n",
    "        print('You messed up this time!')\n",
    "    else:,\n",
    "        print('Congratulations you did it correct!')\n",
    "    finally:\n",
    "        print('The End')\n",
    "   ]"
   ]
  },
  {
   "attachments": {},
   "cell_type": "markdown",
   "metadata": {},
   "source": [
    " #### 9.12.1 Python Standard Library Module"
   ]
  },
  {
   "cell_type": "code",
   "execution_count": null,
   "metadata": {},
   "outputs": [],
   "source": [
    "# importing CSV\n",
    "import csv\n",
    "\n",
    "# Writing to a CSV\n",
    "with open('accounts.csv', mode='w', newline='') as accounts:\n",
    "    writer = csv.writer(accounts)\n",
    "    writer.writerow([100, 'Jones', 24.98])\n",
    "    writer.writerow([200, 'Doe', 345.67])\n",
    "    writer.writerow([300, 'White', 0.00])\n",
    "    writer.writerow([400, 'Stone', -42.16])\n",
    "    writer.writerow([500, 'Rich', 224.62])\n",
    "\n",
    "# Reading from a CSV\n",
    "with open('accounts.csv', 'r', newline='') as accounts:\n",
    "    print(f'{\"Account\":<10}{\"Name\":<10}{\"Balance\":>10}')\n",
    "    reader = csv.reader(accounts)\n",
    "    for record in reader:\n",
    "        account, name, balance = record\n",
    "        print(f'{account:<10}{name:<10}{balance:>10}')"
   ]
  },
  {
   "cell_type": "code",
   "execution_count": null,
   "metadata": {},
   "outputs": [],
   "source": [
    "[    {\n",
    "     text: [\n",
    "      Account   Name         Balance,\n",
    "      100       Jones          24.98,\n",
    "      200       Doe           345.67,\n",
    "      300       White            0.0,\n",
    "      400       Stone         -42.16,\n",
    "      500       Rich          224.62\n",
    "     ]\n",
    "    }\n",
    "   ],"
   ]
  },
  {
   "cell_type": "code",
   "execution_count": null,
   "metadata": {},
   "outputs": [],
   "source": [
    "[\n",
    "# importing CSV\\n\",\n",
    "    \"import csv\\n\",\n",
    "    \"\\n\",\n",
    "    \"# Writing to a CSV\\n\",\n",
    "    \"with open('accounts.csv', mode='w', newline='') as accounts:\\n\",\n",
    "    \"    writer = csv.writer(accounts)\\n\",\n",
    "    \"    writer.writerow([100, 'Jones', 24.98])\\n\",\n",
    "    \"    writer.writerow([200, 'Doe', 345.67])\\n\",\n",
    "    \"    writer.writerow([300, 'White', 0.00])\\n\",\n",
    "    \"    writer.writerow([400, 'Stone', -42.16])\\n\",\n",
    "    \"    writer.writerow([500, 'Rich', 224.62])\\n\",\n",
    "    \"\\n\",\n",
    "    \"# Reading from a CSV\\n\",\n",
    "    \"with open('accounts.csv', 'r', newline='') as accounts:\\n\",\n",
    "    \"    print(f'{\\\"Account\\\":<10}{\\\"Name\\\":<10}{\\\"Balance\\\":>10}')\\n\",\n",
    "    \"    reader = csv.reader(accounts)\\n\",\n",
    "    \"    for record in reader:\\n\",\n",
    "    \"        account, name, balance = record\\n\",\n",
    "    \"        print(f'{account:<10}{name:<10}{balance:>10}')\"\n",
    "   ]"
   ]
  },
  {
   "attachments": {},
   "cell_type": "markdown",
   "metadata": {},
   "source": [
    "#### 9.12.2 Reading CSV Files into Pandas DataFrames"
   ]
  },
  {
   "cell_type": "code",
   "execution_count": null,
   "metadata": {},
   "outputs": [],
   "source": [
    "[\n",
    "       \"<div>\\n\",\n",
    "       \"<style scoped>\\n\",\n",
    "       \"    .dataframe tbody tr th:only-of-type {\\n\",\n",
    "       \"        vertical-align: middle;\\n\",\n",
    "       \"    }\\n\",\n",
    "       \"\\n\",\n",
    "       \"    .dataframe tbody tr th {\\n\",\n",
    "       \"        vertical-align: top;\\n\",\n",
    "       \"    }\\n\",\n",
    "       \"\\n\",\n",
    "       \"    .dataframe thead th {\\n\",\n",
    "       \"        text-align: right;\\n\",\n",
    "       \"    }\\n\",\n",
    "       \"</style>\\n\",\n",
    "       \"<table border=\\\"1\\\" class=\\\"dataframe\\\">\\n\",\n",
    "       \"  <thead>\\n\",\n",
    "       \"    <tr style=\\\"text-align: right;\\\">\\n\",\n",
    "       \"      <th></th>\\n\",\n",
    "       \"      <th>Account</th>\\n\",\n",
    "       \"      <th>Name</th>\\n\",\n",
    "       \"      <th>Balance</th>\\n\",\n",
    "       \"    </tr>\\n\",\n",
    "       \"  </thead>\\n\",\n",
    "       \"  <tbody>\\n\",\n",
    "       \"    <tr>\\n\",\n",
    "       \"      <th>0</th>\\n\",\n",
    "       \"      <td>100</td>\\n\",\n",
    "       \"      <td>Jones</td>\\n\",\n",
    "       \"      <td>24.98</td>\\n\",\n",
    "       \"    </tr>\\n\",\n",
    "       \"    <tr>\\n\",\n",
    "       \"      <th>1</th>\\n\",\n",
    "       \"      <td>200</td>\\n\",\n",
    "       \"      <td>Doe</td>\\n\",\n",
    "       \"      <td>345.67</td>\\n\",\n",
    "       \"    </tr>\\n\",\n",
    "       \"    <tr>\\n\",\n",
    "       \"      <th>2</th>\\n\",\n",
    "       \"      <td>300</td>\\n\",\n",
    "       \"      <td>White</td>\\n\",\n",
    "       \"      <td>0.00</td>\\n\",\n",
    "       \"    </tr>\\n\",\n",
    "       \"    <tr>\\n\",\n",
    "       \"      <th>3</th>\\n\",\n",
    "       \"      <td>400</td>\\n\",\n",
    "       \"      <td>Stone</td>\\n\",\n",
    "       \"      <td>-42.16</td>\\n\",\n",
    "       \"    </tr>\\n\",\n",
    "       \"    <tr>\\n\",\n",
    "       \"      <th>4</th>\\n\",\n",
    "       \"      <td>500</td>\\n\",\n",
    "       \"      <td>Rich</td>\\n\",\n",
    "       \"      <td>224.62</td>\\n\",\n",
    "       \"    </tr>\\n\",\n",
    "       \"  </tbody>\\n\",\n",
    "       \"</table>\\n\",\n",
    "       \"</div>\"\n",
    "      ],"
   ]
  },
  {
   "cell_type": "code",
   "execution_count": null,
   "metadata": {},
   "outputs": [],
   "source": [
    "[\n",
    "       \"   Account   Name  Balance\\n\",\n",
    "       \"0      100  Jones    24.98\\n\",\n",
    "       \"1      200    Doe   345.67\\n\",\n",
    "       \"2      300  White     0.00\\n\",\n",
    "       \"3      400  Stone   -42.16\\n\",\n",
    "       \"4      500   Rich   224.62\"\n",
    "      ]"
   ]
  }
 ],
 "metadata": {
  "kernelspec": {
   "display_name": "Python 3",
   "language": "python",
   "name": "python3"
  },
  "language_info": {
   "name": "python",
   "version": "3.11.4"
  },
  "orig_nbformat": 4
 },
 "nbformat": 4,
 "nbformat_minor": 2
}
