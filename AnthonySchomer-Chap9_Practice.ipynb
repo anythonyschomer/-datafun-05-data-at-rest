{
 "cells": [
  {
   "attachments": {},
   "cell_type": "markdown",
   "metadata": {},
   "source": [
    "# **Module 5 Task 1**\n",
    "#### Author: Anthony Schomer\n",
    "#### Github: https://github.com/anythonyschomer"
   ]
  },
  {
   "attachments": {},
   "cell_type": "markdown",
   "metadata": {},
   "source": [
    "## **Chapter 9 - Files Exceptions**"
   ]
  },
  {
   "attachments": {},
   "cell_type": "markdown",
   "metadata": {},
   "source": [
    "#### 9.3.1 Writing to a text File: Introducing the with statement"
   ]
  },
  {
   "cell_type": "code",
   "execution_count": null,
   "metadata": {
    "vscode": {
     "languageId": "plaintext"
    }
   },
   "outputs": [],
   "source": [
    "\"# Creating Text File\\n\",\n",
    "\"with open('accounts.txt', mode='w') as accounts: \\n\",\n",
    "\"   accounts.write('100 Jones 24.98\\\\n')\\n\",\n",
    "\"   accounts.write('200 Does 345.67\\\\n')\\n\",\n",
    "\"   accounts.write('300 White 0.00\\\\n')\\n\",\n",
    "\"   accounts.write('400 Stone -42.16\\\\n')\\n\",\n",
    "\"   accounts.write('500 Rich 224.62\\\\n')\\n\","
   ]
  },
  {
   "attachments": {},
   "cell_type": "markdown",
   "metadata": {},
   "source": [
    "#### 9.3.2 Reading Data from a Text File"
   ]
  }
 ],
 "metadata": {
  "language_info": {
   "name": "python"
  },
  "orig_nbformat": 4
 },
 "nbformat": 4,
 "nbformat_minor": 2
}
