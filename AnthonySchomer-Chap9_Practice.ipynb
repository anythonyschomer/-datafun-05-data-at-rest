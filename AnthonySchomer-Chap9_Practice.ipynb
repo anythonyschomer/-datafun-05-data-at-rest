{
 "cells": [
  {
   "attachments": {},
   "cell_type": "markdown",
   "metadata": {},
   "source": [
    "# **Module 5 Task 1**\n",
    "#### Author: Anthony Schomer\n",
    "#### Github: https://github.com/anythonyschomer"
   ]
  },
  {
   "attachments": {},
   "cell_type": "markdown",
   "metadata": {},
   "source": [
    "## **Chapter 9 - Files Exceptions**"
   ]
  },
  {
   "attachments": {},
   "cell_type": "markdown",
   "metadata": {},
   "source": [
    "#### 9.3.1 Writing to a text File: Introducing the with statement"
   ]
  },
  {
   "cell_type": "code",
   "execution_count": 5,
   "metadata": {},
   "outputs": [],
   "source": [
    "# Creating Text File\n",
    "with open('accounts.txt', mode='w') as accounts:\n",
    "    accounts.write('100 Jones 24.98\\n')\n",
    "    accounts.write('200 Doe 345.67\\n')\n",
    "    accounts.write('300 White 0.00\\n')\n",
    "    accounts.write('400 Stone -42.16\\n')\n",
    "    accounts.write('500 Rich 224.62\\n') "
   ]
  },
  {
   "attachments": {},
   "cell_type": "markdown",
   "metadata": {},
   "source": [
    "#### 9.3.2 Reading Data from a Text File"
   ]
  },
  {
   "cell_type": "code",
   "execution_count": 6,
   "metadata": {},
   "outputs": [
    {
     "name": "stdout",
     "output_type": "stream",
     "text": [
      "Account   Name         Balance\n",
      "100       Jones          24.98\n",
      "200       Doe           345.67\n",
      "300       White           0.00\n",
      "400       Stone         -42.16\n",
      "500       Rich          224.62\n"
     ]
    }
   ],
   "source": [
    "with open('accounts.txt', mode='r') as accounts:\n",
    "     print(f'{\"Account\":<10}{\"Name\":<10}{\"Balance\":>10}')\n",
    "     for record in accounts:\n",
    "          account, name, balance = record.split()\n",
    "          print(f'{account:<10}{name:<10}{balance:>10}')\n",
    "          "
   ]
  },
  {
   "attachments": {},
   "cell_type": "markdown",
   "metadata": {},
   "source": [
    "#### 9.4 Updating Text Files"
   ]
  },
  {
   "cell_type": "code",
   "execution_count": 7,
   "metadata": {},
   "outputs": [],
   "source": [
    "accounts = open('accounts.txt','r')\n",
    "temp_file = open('temp_file.txt', 'w')\n",
    "with accounts, temp_file:\n",
    "   for record in accounts:\n",
    "      account, name, balance = record.split()\n",
    "      if account != '300':\n",
    "         temp_file.write(record)\n",
    "      else:\n",
    "         new_record = ' '.join([account, 'Williams', balance])\n",
    "         temp_file.write(new_record + '\\n')"
   ]
  },
  {
   "attachments": {},
   "cell_type": "markdown",
   "metadata": {},
   "source": [
    "#### 9.5 Serialization with JSON"
   ]
  },
  {
   "cell_type": "code",
   "execution_count": 8,
   "metadata": {},
   "outputs": [
    {
     "ename": "SyntaxError",
     "evalue": "invalid syntax (221322235.py, line 2)",
     "output_type": "error",
     "traceback": [
      "\u001b[1;36m  Cell \u001b[1;32mIn[8], line 2\u001b[1;36m\u001b[0m\n\u001b[1;33m    {'accounts': 100, 'name': 'Jones,' 'balance': 24.98},\u001b[0m\n\u001b[1;37m                                                ^\u001b[0m\n\u001b[1;31mSyntaxError\u001b[0m\u001b[1;31m:\u001b[0m invalid syntax\n"
     ]
    }
   ],
   "source": [
    "accounts_dict = {'accounts': [\n",
    "     {'accounts': 100, 'name': 'Jones,' 'balance': 24.98},\n",
    "     {'accounts': 200, 'name': 'Doe,' 'balance': 345.67}]}\n"
   ]
  },
  {
   "cell_type": "code",
   "execution_count": null,
   "metadata": {},
   "outputs": [],
   "source": [
    "import json\n",
    "with open('accounts.json', 'w') as accounts:\n",
    "    json.dump(accounts_dict, accounts)"
   ]
  },
  {
   "cell_type": "code",
   "execution_count": null,
   "metadata": {},
   "outputs": [],
   "source": [
    "{\"accounts\":\n",
    "    [{\"accounts\": 100, \"name\": \"Jones\", \"balance\": 24.98},\n",
    "     {\"accounts\": 200, \"name\": \"Doe\", \"balance\": 345.67}]}"
   ]
  },
  {
   "cell_type": "code",
   "execution_count": null,
   "metadata": {},
   "outputs": [],
   "source": [
    "with open('accounts.json', 'r') as accounts:\n",
    "    accounts_json = json.load(accounts)\n",
    "    "
   ]
  },
  {
   "cell_type": "code",
   "execution_count": null,
   "metadata": {},
   "outputs": [],
   "source": [
    "accounts_json\n"
   ]
  },
  {
   "cell_type": "code",
   "execution_count": null,
   "metadata": {},
   "outputs": [],
   "source": [
    "accounts_json ['accounts']"
   ]
  },
  {
   "cell_type": "code",
   "execution_count": null,
   "metadata": {},
   "outputs": [],
   "source": [
    "accounts_json ['accounts'] [0]"
   ]
  },
  {
   "cell_type": "code",
   "execution_count": null,
   "metadata": {},
   "outputs": [],
   "source": [
    "accounts_json ['accounts'] [1]\n"
   ]
  },
  {
   "cell_type": "code",
   "execution_count": null,
   "metadata": {},
   "outputs": [],
   "source": [
    "with open('accounts.json', 'r') as accounts:\n",
    "    print(json.dumps(json.load(accounts), indent=4))\n",
    "    \n",
    "{\n",
    "    \"accounts\": [\n",
    "        {\n",
    "            \"account\": 100,\n",
    "            \"name\": \"Jones\",\n",
    "            \"balance\": 24.98\n",
    "        },    \n",
    "        {    \n",
    "            \"account\": 200,\n",
    "            \"name\": \"Doe\",\n",
    "            \"balance\": 345.67\n",
    "        }\n",
    "    ]\n",
    "}\n"
   ]
  },
  {
   "attachments": {},
   "cell_type": "markdown",
   "metadata": {},
   "source": [
    "#### 9.8.1 Division by Zero and Invalid Input & 9.8.2 Try Statements"
   ]
  },
  {
   "cell_type": "code",
   "execution_count": null,
   "metadata": {},
   "outputs": [],
   "source": [
    "10/0\n",
    "\n",
    "value = int(input('Enter an integer: '))\n",
    "Enter an integer: hello\n"
   ]
  },
  {
   "cell_type": "code",
   "execution_count": null,
   "metadata": {},
   "outputs": [],
   "source": [
    "# dividebyzero.py\n",
    "\"\"\"Simple exception handling example.\"\"\"\n",
    "\n",
    "while True:\n",
    "    #attempt to convert and divide values\n",
    "    try:\n",
    "        number1 = int(input('Enter numerator:'))\n",
    "        number2 = int(input('Enter denominator:'))\n",
    "        result = number1 /number2\n",
    "    except ValueError: # tried to convert non-numeric value to int\n",
    "        print('You must enter two integers\\n')\n",
    "    except ZeroDivisionError: # denominator was 0\n",
    "        print('Attempted to divide by zero\\n')\n",
    "    else: #executes only if no exceptions occur\n",
    "        print(f'{number1:.3f} / {number2:.3f} = {result:.3f}')\n",
    "        break # terminate the loop"
   ]
  },
  {
   "attachments": {},
   "cell_type": "markdown",
   "metadata": {},
   "source": [
    "#### 9.9 Finally Clause"
   ]
  },
  {
   "cell_type": "code",
   "execution_count": null,
   "metadata": {},
   "outputs": [],
   "source": [
    "try:\n",
    "  print('try suite with no exceptions raised')\n",
    "except:\n",
    "  print('this will not execute')\n",
    "except:\n",
    "  print('else executes because no execeptions in the try suite')\n",
    "finally:\n",
    "  print('finally always executes')\n",
    "\n",
    "try suite with no execeptions raised else executes because no exceptions in the try suite finally always executes  \n",
    "  \n",
    "try:\n",
    "  print ('try suite that raises an exeception')\n",
    "  int('hello')\n",
    "  print('this will not execute')\n",
    "except ValueError:\n",
    "  print('a ValueError occured')\n",
    "else:\n",
    "  print('else will not execute because an exception occured')\n",
    "finally:\n",
    "  print('finally always executes') \n",
    "\n",
    "try suite that raises an exception a ValueError occured finally always executes\n",
    "\n",
    "open('gradez.txt') \n",
    "\n",
    "try:\n",
    "  with open('gradez.txt', 'r') as accounts:\n",
    "    print(f'{\"ID\":<3}{\"Name\":<7}{\"Grade\"}')\n",
    "    for records in accounts:\n",
    "      student_id, name, grade = record.split()\n",
    "      print(f'{student_id:<3}{name:<7}{grade}')\n",
    "except FileNotFoundError:\n",
    "      print('The file name you specified does not exist')\n",
    "      "
   ]
  },
  {
   "cell_type": "code",
   "execution_count": null,
   "metadata": {},
   "outputs": [],
   "source": [
    "[\n",
    "    # Try Suite that works,\n",
    "    try:,\n",
    "    print('My name is Anthony Schomer'),\n",
    "    except:,\n",
    "        print('You messed up this time!'),\n",
    "else:\n",
    "        print('Congratulations you did it correct!'),\n",
    "    finally:,\n",
    "        print('The End'),\n",
    "    # Try Suite that does not work,\n",
    "    try,\n",
    "        print(\"My name is Anthony Schomer\"),\n",
    "        int('Hello')\n",
    "        print('I am trying to mess this up on purpose')\n",
    "    except:\n",
    "        print('You messed up this time!')\n",
    "    else:,\n",
    "        print('Congratulations you did it correct!')\n",
    "    finally:\n",
    "        print('The End')\n",
    "   ]"
   ]
  },
  {
   "attachments": {},
   "cell_type": "markdown",
   "metadata": {},
   "source": [
    " #### 9.12.1 Python Standard Library Module"
   ]
  },
  {
   "cell_type": "code",
   "execution_count": null,
   "metadata": {},
   "outputs": [],
   "source": [
    "# Writing to a CSV File\n",
    "import csv\n",
    "\n",
    "with open('accounts.csv', mode='w', newline='') as accounts:\n",
    "    writer = csv.writer(accounts)\n",
    "    writer.writerow([100, 'Jones', 24.98])\n",
    "    writer.writerow([200, 'Doe', 345.67])\n",
    "    writer.writerow([300, 'White', 0.00])\n",
    "    writer.writerow([400, 'Stone', -42.16])\n",
    "    writer.writerow([500, 'Rich', 224.62])\n",
    "\n",
    "# Reading from a CSV\n",
    "with open('accounts.csv', 'r', newline='') as accounts:\n",
    "    print(f'{\"Account\":<10}{\"Name\":<10}{\"Balance\":>10}')\n",
    "    reader = csv.reader(accounts)\n",
    "    for record in reader:\n",
    "        account, name, balance = record\n",
    "        print(f'{account:<10}{name:<10}{balance:>10}')"
   ]
  },
  {
   "attachments": {},
   "cell_type": "markdown",
   "metadata": {},
   "source": [
    "#### 9.12.2 Reading CSV Files into Pandas DataFrames"
   ]
  },
  {
   "cell_type": "code",
   "execution_count": null,
   "metadata": {},
   "outputs": [],
   "source": [
    "import pandas as pd\n",
    "df = pd.read_csv('accounts.csv',\n",
    "                 names=['account', 'name', 'balance'])\n",
    "\n",
    "df\n"
   ]
  }
 ],
 "metadata": {
  "kernelspec": {
   "display_name": "Python 3",
   "language": "python",
   "name": "python3"
  },
  "language_info": {
   "codemirror_mode": {
    "name": "ipython",
    "version": 3
   },
   "file_extension": ".py",
   "mimetype": "text/x-python",
   "name": "python",
   "nbconvert_exporter": "python",
   "pygments_lexer": "ipython3",
   "version": "3.11.4"
  },
  "orig_nbformat": 4
 },
 "nbformat": 4,
 "nbformat_minor": 2
}
