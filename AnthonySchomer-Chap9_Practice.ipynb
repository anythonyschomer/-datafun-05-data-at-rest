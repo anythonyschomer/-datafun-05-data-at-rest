{
 "cells": [
  {
   "attachments": {},
   "cell_type": "markdown",
   "metadata": {},
   "source": [
    "# **Module 5 Task 1**\n",
    "#### Author: Anthony Schomer\n",
    "#### Github: https://github.com/anythonyschomer"
   ]
  },
  {
   "attachments": {},
   "cell_type": "markdown",
   "metadata": {},
   "source": [
    "## **Chapter 9 - Files Exceptions**"
   ]
  },
  {
   "attachments": {},
   "cell_type": "markdown",
   "metadata": {},
   "source": [
    "#### 9.3.1 Writing to a text File: Introducing the with statement"
   ]
  },
  {
   "cell_type": "code",
   "execution_count": null,
   "metadata": {
    "vscode": {
     "languageId": "plaintext"
    }
   },
   "outputs": [],
   "source": [
    "# Creating Text File\n",
    "with open('accounts.txt', mode='w') as accounts:\n",
    "100 Jones 24.98\n",
    "200 Does 345.67\n",
    "300 White 0.00\n",
    "400 Stone -42.16\n",
    "500 Rich 224.62"
   ]
  },
  {
   "attachments": {},
   "cell_type": "markdown",
   "metadata": {},
   "source": [
    "#### 9.3.2 Reading Data from a Text File"
   ]
  },
  {
   "cell_type": "code",
   "execution_count": null,
   "metadata": {
    "vscode": {
     "languageId": "plaintext"
    }
   },
   "outputs": [],
   "source": [
    "[\n",
    "    {\n",
    "     \"name\": \"stdout\",\n",
    "     \"output_type\": \"stream\",\n",
    "     \"text\": [\n",
    "      \"Account   Name         Balance\\n\",\n",
    "      \"100       Jones          24.98\\n\",\n",
    "      \"200       Doe           345.67\\n\",\n",
    "      \"300       White           0.00\\n\",\n",
    "      \"400       Stone         -42.16\\n\",\n",
    "      \"500       Rich          224.62\\n\"\n",
    "     ]\n",
    "    }\n",
    "   ],"
   ]
  },
  {
   "cell_type": "code",
   "execution_count": null,
   "metadata": {
    "vscode": {
     "languageId": "plaintext"
    }
   },
   "outputs": [],
   "source": [
    "# Reading Data from our Text File\n",
    "[\n",
    " with open('accounts.txt', mode='r') as accounts:\n",
    "    print(f'{\"Account\":<10}{\"Name\":<10}{\"Balance\":>10}')\n",
    "    for record in accounts:\n",
    "       account, name, balance = record.split()\n",
    "       print(f'{account:<10}{name:<10}{balance:>10}')\n",
    "]"
   ]
  },
  {
   "attachments": {},
   "cell_type": "markdown",
   "metadata": {},
   "source": [
    "#### 9.4 Updating Text Files"
   ]
  },
  {
   "cell_type": "code",
   "execution_count": null,
   "metadata": {
    "vscode": {
     "languageId": "plaintext"
    }
   },
   "outputs": [],
   "source": [
    "\n",
    "   \"source\": [\n",
    "    \"# Updating Account 300's name from White to Williams\\n\",\n",
    "    \"accounts = open('accounts.txt', 'r')\\n\",\n",
    "    \"\\n\",\n",
    "    \"temp_file = open('temp_file.txt', 'w')\\n\",\n",
    "    \"\\n\",\n",
    "    \"with accounts, temp_file:\\n\",\n",
    "    \"    for record in accounts:\\n\",\n",
    "    \"        account, name, balance = record.split()\\n\",\n",
    "    \"        if account != '300':\\n\",\n",
    "    \"            temp_file.write(record)\\n\",\n",
    "    \"        else:\\n\",\n",
    "    \"            new_record = ''.join([account, 'Williams', balance])\\n\",\n",
    "    \"            temp_file.write(new_record + '\\\\n')\"\n",
    "   ]"
   ]
  },
  {
   "cell_type": "code",
   "execution_count": null,
   "metadata": {
    "vscode": {
     "languageId": "plaintext"
    }
   },
   "outputs": [],
   "source": [
    "\n",
    "   \"source\": [\n",
    "    \"# Updating Account 300's name from White to Williams\\n\",\n",
    "    \"accounts = open('accounts.txt', 'r')\\n\",\n",
    "    \"\\n\",\n",
    "    \"temp_file = open('temp_file.txt', 'w')\\n\",\n",
    "    \"\\n\",\n",
    "    \"with accounts, temp_file:\\n\",\n",
    "    \"    for record in accounts:\\n\",\n",
    "    \"        account, name, balance = record.split()\\n\",\n",
    "    \"        if account != '300':\\n\",\n",
    "    \"            temp_file.write(record)\\n\",\n",
    "    \"        else:\\n\",\n",
    "    \"            new_record = ''.join([account, 'Williams', balance])\\n\",\n",
    "    \"            temp_file.write(new_record + '\\\\n')\"\n",
    "    ]"
   ]
  },
  {
   "attachments": {},
   "cell_type": "markdown",
   "metadata": {},
   "source": [
    "#### 9.5 Serialization with JSON"
   ]
  },
  {
   "cell_type": "code",
   "execution_count": null,
   "metadata": {
    "vscode": {
     "languageId": "plaintext"
    }
   },
   "outputs": [],
   "source": [
    "\"outputs\": [\n",
    "\n",
    "     \"data\": \n",
    "      \"text/plain\": \n",
    "       \"{'accounts': [{'account': 100, 'name': 'Jones', 'balance': 24.98},\\n\",\n",
    "       \"  {'account': 200, 'name': 'Doe', 'balance': 345.67}]}\"\n",
    "      ]"
   ]
  },
  {
   "cell_type": "code",
   "execution_count": null,
   "metadata": {
    "vscode": {
     "languageId": "plaintext"
    }
   },
   "outputs": [],
   "source": [
    "[\n",
    "    \"# Creating Accounts Dictionary\\n\",\n",
    "    \"accounts_dict = {'accounts': [{'account': 100, 'name': 'Jones', 'balance':24.98}, {'account': 200, 'name': 'Doe', 'balance': 345.67}]}\\n\",\n",
    "    \"\\n\",\n",
    "    \"# Importing JSON\\n\",\n",
    "    \"import json\\n\",\n",
    "    \"\\n\",\n",
    "    \"# Serializing the dictionary to JSON\\n\",\n",
    "    \"with open('accounts.json', 'w') as accounts:\\n\",\n",
    "    \"    json.dump(accounts_dict, accounts)\\n\",\n",
    "    \"\\n\",\n",
    "    \"# Deserializing the JSON Text\\n\",\n",
    "    \"with open('accounts.json', 'r') as accounts:\\n\",\n",
    "    \"    accounts_json = json.load(accounts)\\n\",\n",
    "    \"\\n\",\n",
    "    \"# Showing the Acccounts\\n\",\n",
    "    \"accounts_json\"\n",
    "   ]"
   ]
  },
  {
   "attachments": {},
   "cell_type": "markdown",
   "metadata": {},
   "source": [
    "#### 9.8.1 Division by Zero and Invalid Input & 9.8.2 Try Statements"
   ]
  },
  {
   "cell_type": "code",
   "execution_count": null,
   "metadata": {
    "vscode": {
     "languageId": "plaintext"
    }
   },
   "outputs": [],
   "source": [
    "[     \"text\": [\n",
    "      \"45.000 / 5.000 = 9.000\\n\"\n",
    "     ]]"
   ]
  },
  {
   "cell_type": "code",
   "execution_count": null,
   "metadata": {
    "vscode": {
     "languageId": "plaintext"
    }
   },
   "outputs": [],
   "source": [
    "[\n",
    "    \"# Creating a program that divides integers but does not break when trying to divide by 0\\n\",\n",
    "    \"while True: \\n\",\n",
    "    \"    try:\\n\",\n",
    "    \"        number1 = int(input('Enter numerator: '))\\n\",\n",
    "    \"        number2 = int(input('Enter denominator: '))\\n\",\n",
    "    \"        result = number1 / number2\\n\",\n",
    "    \"    except ValueError: \\n\",\n",
    "    \"        print('You must enter two integers\\\\n')\\n\",\n",
    "    \"    except ZeroDivisionError:\\n\",\n",
    "    \"        print('Attempted to divide by zero\\\\n')\\n\",\n",
    "    \"    else:\\n\",\n",
    "    \"        print(f'{number1:.3f} / {number2:.3f} = {result:.3f}')\\n\",\n",
    "    \"        break\"\n",
    "   ]"
   ]
  },
  {
   "attachments": {},
   "cell_type": "markdown",
   "metadata": {},
   "source": [
    "#### 9.9 Finally Clause"
   ]
  },
  {
   "cell_type": "code",
   "execution_count": null,
   "metadata": {
    "vscode": {
     "languageId": "plaintext"
    }
   },
   "outputs": [],
   "source": [
    " [\n",
    "    { [\n",
    "      \"My name is Anthony Schomer\\n\",\n",
    "      \"Congratulations you did it correct!\\n\",\n",
    "      \"The End\\n\",\n",
    "      \"My name is Anthony Schomer\\n\",\n",
    "      \"You messed up this time!\\n\",\n",
    "      \"The End\\n\"\n",
    "     ]\n",
    "    }\n",
    "   ],\n",
    "   "
   ]
  },
  {
   "cell_type": "code",
   "execution_count": null,
   "metadata": {
    "vscode": {
     "languageId": "plaintext"
    }
   },
   "outputs": [],
   "source": [
    "[\n",
    "    \"# Try Suite that works,\n",
    "    \"try:,\n",
    "    \"    print('My name is Anthony Schomer'),\n",
    "    \"except:,\n",
    "    \"    print('You messed up this time!'),\n",
    "    \"else:\n",
    "    \"    print('Congratulations you did it correct!'),\n",
    "    \"finally:,\n",
    "    \"    print('The End'),\n",
    "    \"# Try Suite that does not work,\n",
    "    \"try,\n",
    "    \"    print(\"My name is Anthony Schomer\"),\n",
    "    \"    int('Hello')\n",
    "    \"    print('I am trying to mess this up on purpose')\n",
    "    \"except:\n",
    "    \"    print('You messed up this time!')\n",
    "    \"else:\\n\",\n",
    "    \"    print('Congratulations you did it correct!')\n",
    "    \"finally:\n",
    "    \"    print('The End')\"\n",
    "   ]"
   ]
  },
  {
   "attachments": {},
   "cell_type": "markdown",
   "metadata": {},
   "source": [
    " #### 9.12.1 Python Standard Library Module"
   ]
  },
  {
   "cell_type": "code",
   "execution_count": null,
   "metadata": {
    "vscode": {
     "languageId": "plaintext"
    }
   },
   "outputs": [],
   "source": [
    "[    {\n",
    "     \"text\": [\n",
    "      \"Account   Name         Balance,\n",
    "      \"100       Jones          24.98,\n",
    "      \"200       Doe           345.67,\n",
    "      \"300       White            0.0,\n",
    "      \"400       Stone         -42.16\",\n",
    "      \"500       Rich          224.62\"\n",
    "     ]\n",
    "    }\n",
    "   ],"
   ]
  },
  {
   "cell_type": "code",
   "execution_count": null,
   "metadata": {
    "vscode": {
     "languageId": "plaintext"
    }
   },
   "outputs": [],
   "source": [
    "[\n",
    "# importing CSV\\n\",\n",
    "    \"import csv\\n\",\n",
    "    \"\\n\",\n",
    "    \"# Writing to a CSV\\n\",\n",
    "    \"with open('accounts.csv', mode='w', newline='') as accounts:\\n\",\n",
    "    \"    writer = csv.writer(accounts)\\n\",\n",
    "    \"    writer.writerow([100, 'Jones', 24.98])\\n\",\n",
    "    \"    writer.writerow([200, 'Doe', 345.67])\\n\",\n",
    "    \"    writer.writerow([300, 'White', 0.00])\\n\",\n",
    "    \"    writer.writerow([400, 'Stone', -42.16])\\n\",\n",
    "    \"    writer.writerow([500, 'Rich', 224.62])\\n\",\n",
    "    \"\\n\",\n",
    "    \"# Reading from a CSV\\n\",\n",
    "    \"with open('accounts.csv', 'r', newline='') as accounts:\\n\",\n",
    "    \"    print(f'{\\\"Account\\\":<10}{\\\"Name\\\":<10}{\\\"Balance\\\":>10}')\\n\",\n",
    "    \"    reader = csv.reader(accounts)\\n\",\n",
    "    \"    for record in reader:\\n\",\n",
    "    \"        account, name, balance = record\\n\",\n",
    "    \"        print(f'{account:<10}{name:<10}{balance:>10}')\"\n",
    "   ]"
   ]
  },
  {
   "attachments": {},
   "cell_type": "markdown",
   "metadata": {},
   "source": [
    "#### 9.12.2 Reading CSV Files into Pandas DataFrames"
   ]
  },
  {
   "cell_type": "code",
   "execution_count": null,
   "metadata": {
    "vscode": {
     "languageId": "plaintext"
    }
   },
   "outputs": [],
   "source": [
    "import pandas as pd\n",
    "\n",
    "df = pd.read_csv('accounts.csv', names=['Account', 'Name', 'Balance'])\n",
    "\n",
    "df    \n",
    "      \n",
    "      \n",
    "           <div>\n",
    "          <style scoped>\n",
    "           .dataframe tbody tr th:only-of-type\n",
    "               vertical-align: middle;\n",
    "           .dataframe tbody tr th\n",
    "               vertical-align: top;\n",
    "                         .dataframe thead th\n",
    "               text-align: right;\n",
    "               </style>\n",
    "               <table border=\\\"1\\\" class=\\\"dataframe\\\">\n",
    "           <thead>\n",
    "           <tr style=\\\"text-align: right;>\n",
    "             <th></th>\n",
    "             <th>Account</th>\n",
    "             <th>Name</th>\n",
    "             <th>Balance</th>\n",
    "           </tr>\n",
    "         </thead>\n",
    "         <tbody>\n",
    "             <tr>\n",
    "            <th>0</th>\n",
    "             <td>100</td>\n",
    "             <td>Jones</td>\n",
    "             <td>24.98</td>\n",
    "           </tr>\n",
    "           <tr>\n",
    "             <th>1</th>\n",
    "             <td>200</td>\n",
    "             <td>Doe</td>\n",
    "             <td>345.67</td>\n",
    "           </tr>\n",
    "           <tr>\n",
    "             <th>2</th>\n",
    "             <td>300</td>\n",
    "             <td>White</td>\n",
    "             <td>0.00</td>\n",
    "           </tr>         \n",
    "           <tr>\n",
    "             <th>3</th>\n",
    "             <td>400</td>\n",
    "             <td>Stone</td>\n",
    "             <td>-42.16</td>\n",
    "           </tr>\n",
    "           <tr>\n",
    "             <th>4</th>\n",
    "             <td>500</td>\n",
    "             <td>Rich</td>\n",
    "             <td>224.62</td>\n",
    "           </tr>\n",
    "         </tbody>\n",
    "       </table>\n",
    "       </div>"
   ]
  }
 ],
 "metadata": {
  "language_info": {
   "name": "python"
  },
  "orig_nbformat": 4
 },
 "nbformat": 4,
 "nbformat_minor": 2
}
